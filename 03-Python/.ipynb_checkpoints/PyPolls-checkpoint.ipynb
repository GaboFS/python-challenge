{
 "cells": [
  {
   "cell_type": "code",
   "execution_count": null,
   "metadata": {},
   "outputs": [],
   "source": [
    "# Import Dependencies\n",
    "import pandas as pd"
   ]
  },
  {
   "cell_type": "code",
   "execution_count": null,
   "metadata": {},
   "outputs": [],
   "source": [
    "# import os & poll_csv\n",
    "import os\n",
    "import csv\n",
    "file_to_load = os.path.join(\"Resources\", \"election_data.csv\")\n",
    "#voting_output = os.path.join(\"Output\", \"election_table.txt\")\n",
    "#Define Variables\n",
    "total_votes = 0\n",
    "candidates = {}\n",
    "# Open the CSV file and read\n",
    "with open(file_to_load) as election_data:\n",
    "    reader = csv.reader(election_data)\n",
    "# Read the header\n",
    "    header = next(reader)\n",
    "# For each row in spreadsheet\n",
    "    for row in reader:\n",
    "        \n",
    "        total_votes = total_votes + 1\n",
    "        \n",
    "        name = row[2]\n",
    "        if name not in candidates:\n",
    "            candidates[name] = 1\n",
    "        else:\n",
    "            candidates[name] = candidates[name] + 1\n",
    "#print(total_votes)\n",
    "    print(\"Election Results\")\n",
    "    print(\"---------------------------------\")\n",
    "    print(f\"Total Votes: {total_votes}\")\n",
    "    print(\"---------------------------------\")\n",
    "for candidate_name, vote_count in candidates.items():\n",
    "    percentage = '{0:.3%}'.format((vote_count / total_votes))\n",
    "    vote_count = (vote_count)\n",
    "    winner = sorted(candidates.items(), reverse=False)\n",
    "    \n",
    "    print(f\"{candidate_name}: {percentage} {(vote_count)}\")\n",
    "print(\"---------------------------------\")\n",
    "print(\"Winner: \" + str(winner[1]))\n",
    "print(\"--------------------------------\")\n"
   ]
  },
  {
   "cell_type": "code",
   "execution_count": null,
   "metadata": {},
   "outputs": [],
   "source": []
  },
  {
   "cell_type": "code",
   "execution_count": null,
   "metadata": {},
   "outputs": [],
   "source": []
  },
  {
   "cell_type": "code",
   "execution_count": null,
   "metadata": {},
   "outputs": [],
   "source": []
  },
  {
   "cell_type": "code",
   "execution_count": null,
   "metadata": {},
   "outputs": [],
   "source": []
  },
  {
   "cell_type": "code",
   "execution_count": null,
   "metadata": {},
   "outputs": [],
   "source": []
  },
  {
   "cell_type": "code",
   "execution_count": null,
   "metadata": {},
   "outputs": [],
   "source": []
  }
 ],
 "metadata": {
  "kernelspec": {
   "display_name": "Python 3",
   "language": "python",
   "name": "python3"
  },
  "language_info": {
   "codemirror_mode": {
    "name": "ipython",
    "version": 3
   },
   "file_extension": ".py",
   "mimetype": "text/x-python",
   "name": "python",
   "nbconvert_exporter": "python",
   "pygments_lexer": "ipython3",
   "version": "3.6.10"
  }
 },
 "nbformat": 4,
 "nbformat_minor": 2
}
