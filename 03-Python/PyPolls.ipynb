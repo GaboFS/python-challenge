{
 "cells": [
  {
   "cell_type": "code",
   "execution_count": null,
   "metadata": {},
   "outputs": [],
   "source": [
    "# import os & poll_csv\n",
    "import cvs\n",
    "import os\n"
   ]
  },
  {
   "cell_type": "code",
   "execution_count": 3,
   "metadata": {},
   "outputs": [
    {
     "ename": "SyntaxError",
     "evalue": "invalid syntax (<ipython-input-3-0887423c6492>, line 14)",
     "output_type": "error",
     "traceback": [
      "\u001b[0;36m  File \u001b[0;32m\"<ipython-input-3-0887423c6492>\"\u001b[0;36m, line \u001b[0;32m14\u001b[0m\n\u001b[0;31m    with open(file_to_load) as election_data\u001b[0m\n\u001b[0m                                            ^\u001b[0m\n\u001b[0;31mSyntaxError\u001b[0m\u001b[0;31m:\u001b[0m invalid syntax\n"
     ]
    }
   ],
   "source": [
    "#Files to load and Output\n",
    "\n",
    "file_to_load = os.path.join(\"Resources\", \"election_data.csv\")\n",
    "file_to_output = os.path.join(\"Resources\", \"election_data.csv\")\n",
    "\n",
    "total_votes = 0\n",
    "\n",
    "\n",
    "total_votes = 0\n",
    "candidates = {}\n",
    "\n",
    "#read CSV\n",
    "\n",
    "with open(file_to_load) as election_data\n",
    "    reader = csv.reader(election_data)\n",
    "    \n",
    "header = next(reader)\n",
    "\n",
    "for row in reader\n",
    "    \n",
    "    total_votes = total_votes +1\n",
    "    \n",
    "    name = row[2] \n",
    "    \n",
    "    if name not in candidate:\n",
    "        candidate[name] = 1\n",
    "    else:\n",
    "        candidate[name] = candidates[name] + 1\n",
    "        \n",
    "for candidate_name, vote_count in candidate.items()\n",
    "    percentage = vote_count / total_votes\n",
    "    print(f\"{candidate_name}':{vote_count}')\n",
    "        \n",
    "        \n",
    "print (total_votes)\n",
    "print (Kahn_count)\n",
    "print (Correy_count)\n",
    "print (Li_count)\n",
    "print (Tooley_count)\n",
    "\n",
    "\n",
    "\n"
   ]
  },
  {
   "cell_type": "code",
   "execution_count": null,
   "metadata": {},
   "outputs": [],
   "source": [
    "voting_db = os.path.join(\"Output\", \"election_table.txt\")\n",
    "\n",
    "#Define Variables\n",
    "\n",
    "total_votes = 0\n",
    "candidates = {\"Kahn\",\"Correy\",\"Li\",\"O'Tooley\"}\n",
    "\n",
    "# Open the CSV file and read\n",
    "\n",
    "with open election_results as election_db:\n",
    "    reader = csv.reader(election_data)\n",
    "\n",
    "# Read the header\n",
    "    header = next(reader)\n",
    "\n"
   ]
  },
  {
   "cell_type": "code",
   "execution_count": null,
   "metadata": {},
   "outputs": [],
   "source": [
    "# For each row in spreadsheet\n",
    "  \n",
    "    \n",
    "    for row in reader:\n",
    "        \n",
    "        total_votes = total_votes + 1\n",
    "        \n",
    "        name = row[2]\n",
    "        if name not in candidates:\n",
    "            candidates[name] = 1\n",
    "        elseif:\n",
    "            candidates[name] = candidates[name] + 1\n",
    "\n"
   ]
  },
  {
   "cell_type": "code",
   "execution_count": null,
   "metadata": {},
   "outputs": [],
   "source": [
    "#print(total_votes)\n",
    "    print(\"Election Results\")\n",
    "    print(\"---------------------------------\")\n",
    "    print(f\"Total Votes: {total_votes}\")\n",
    "    print(\"---------------------------------\")\n",
    "for candidate_name, vote_count in candidates.items():\n",
    "    percentage = '{0:.3%}'.format((vote_count / total_votes))\n",
    "    vote_count = (vote_count)\n",
    "    winner = sorted(candidates.items(), reverse=False)\n",
    "    \n",
    "    print(f\"{candidate_name}: {percentage} {(vote_count)}\")\n",
    "print(\"---------------------------------\")\n",
    "print(\"Winner: \" + str(winner[1]))\n",
    "print(\"--------------------------------\")"
   ]
  },
  {
   "cell_type": "code",
   "execution_count": null,
   "metadata": {},
   "outputs": [],
   "source": []
  },
  {
   "cell_type": "code",
   "execution_count": null,
   "metadata": {},
   "outputs": [],
   "source": []
  },
  {
   "cell_type": "code",
   "execution_count": null,
   "metadata": {},
   "outputs": [],
   "source": []
  },
  {
   "cell_type": "code",
   "execution_count": null,
   "metadata": {},
   "outputs": [],
   "source": []
  }
 ],
 "metadata": {
  "kernelspec": {
   "display_name": "Python 3",
   "language": "python",
   "name": "python3"
  },
  "language_info": {
   "codemirror_mode": {
    "name": "ipython",
    "version": 3
   },
   "file_extension": ".py",
   "mimetype": "text/x-python",
   "name": "python",
   "nbconvert_exporter": "python",
   "pygments_lexer": "ipython3",
   "version": "3.6.10"
  }
 },
 "nbformat": 4,
 "nbformat_minor": 2
}
